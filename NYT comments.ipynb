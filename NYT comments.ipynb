{
 "metadata": {
  "name": ""
 },
 "nbformat": 3,
 "nbformat_minor": 0,
 "worksheets": [
  {
   "cells": [
    {
     "cell_type": "code",
     "collapsed": false,
     "input": [
      "import urllib2\n",
      "import json\n",
      "from pymongo import MongoClient\n"
     ],
     "language": "python",
     "metadata": {},
     "outputs": [],
     "prompt_number": 30
    },
    {
     "cell_type": "code",
     "collapsed": false,
     "input": [
      "request_string = 'http://api.nytimes.com/svc/community/v3/user-content/url.json?api-key=ea7c9ce8aace11f9c6635518caf80167:17:70239558&url=http://www.nytimes.com/2015/08/13/opinion/lets-expose-the-gender-pay-gap.html'\n",
      "response = urllib2.urlopen(request_string)\n",
      "content = response.read()\n",
      "decoded = json.loads(content)"
     ],
     "language": "python",
     "metadata": {},
     "outputs": [],
     "prompt_number": 61
    },
    {
     "cell_type": "code",
     "collapsed": false,
     "input": [
      "print \"General keys:\", decoded.keys()\n",
      "print \"\\n\",\"---------------------------\",\"\\n\"\n",
      "print \"Results keys:\", decoded['results'].keys()\n",
      "print \"\\n\",\"---------------------------\",\"\\n\"\n",
      "print \"Comments keys:\", decoded['results']['comments'][0].keys()\n",
      "print \"\\n\",\"---------------------------\",\"\\n\"\n",
      "print \"Comment text for first comment:\", decoded['results']['comments'][0]['commentBody']\n",
      "print \"\\n\",\"---------------------------\",\"\\n\"\n",
      "\n",
      "num_comments = decoded['results']['totalParentCommentsFound']\n",
      "print \"Number of parent comments:\", num_comments"
     ],
     "language": "python",
     "metadata": {},
     "outputs": [
      {
       "output_type": "stream",
       "stream": "stdout",
       "text": [
        "General keys: [u'debug', u'status', u'results', u'copyright']\n",
        "\n",
        "--------------------------- \n",
        "\n",
        "Results keys: [u'totalParentCommentsFound', u'sort', u'totalCommentsFound', u'depthLimit', u'callerID', u'totalRecommendationsReturned', u'comments', u'totalReplyCommentsReturned', u'filter', u'totalParentCommentsReturned', u'totalReplyCommentsFound', u'totalCommentsReturned', u'totalEditorsSelectionReturned', u'replyLimit', u'totalReporterReplyCommentsFound', u'api_timestamp', u'totalReporterReplyCommentsReturned', u'totalRecommendationsFound', u'totalEditorsSelectionFound', u'page']\n",
        "\n",
        "--------------------------- \n",
        "\n",
        "Comments keys: [u'recommendedFlag', u'parentID', u'replies', u'commentID', u'trusted', u'userDisplayName', u'createDate', u'userID', u'replyCount', u'commentTitle', u'status', u'sharing', u'approveDate', u'userTitle', u'recommendations', u'permID', u'picURL', u'editorsSelection', u'parentUserDisplayName', u'timespeople', u'userURL', u'userLocation', u'depth', u'commentType', u'updateDate', u'commentSequence', u'reportAbuseFlag', u'commentBody']\n",
        "\n",
        "--------------------------- \n",
        "\n",
        "Comment text for first comment: Articles like this routinely ignore the fact that because women take leaves from work, and also quit, at a higher rate than men do, businesses cannot on average value them as highly as men.<br/><br/>This is wrong. People should be paid equally for equal work.  But this won't happen unless companies are compensated for this discrepancy by government.  Especially, employers should be compensated for leaves taken for pregnancy and childcare.<br/><br/>In fact, any company interested in its own welfare will pay employees what they are worth, lest they go somewhere else with more pay. \n",
        "\n",
        "--------------------------- \n",
        "\n",
        "Number of parent comments: 253\n"
       ]
      }
     ],
     "prompt_number": 62
    },
    {
     "cell_type": "code",
     "collapsed": false,
     "input": [
      "request_strings = []\n",
      "def generate_request_strings():\n",
      "    for i in xrange(0,num_comments,25):\n",
      "        request_strings.append(\"http://api.nytimes.com/svc/community/v3/user-content/url.json?api-key=ea7c9ce8aace11f9c6635518caf80167:17:70239558&url=http://www.nytimes.com/2015/08/13/opinion/lets-expose-the-gender-pay-gap.html&offset=\" + str(i))\n",
      "generate_request_strings()                           "
     ],
     "language": "python",
     "metadata": {},
     "outputs": [],
     "prompt_number": 29
    },
    {
     "cell_type": "code",
     "collapsed": false,
     "input": [
      "client = MongoClient()\n",
      "nyt = client.nyt_t.nyt"
     ],
     "language": "python",
     "metadata": {},
     "outputs": [],
     "prompt_number": 47
    },
    {
     "cell_type": "code",
     "collapsed": false,
     "input": [
      "client.drop_database('nyt_t')\n",
      "for page in request_strings:\n",
      "    response = urllib2.urlopen(page)\n",
      "    content = response.read()\n",
      "    decoded = json.loads(content)\n",
      "    nyt.insert(decoded['results']['comments'][0])\n",
      "    nyt.find().next()\n",
      "    for comment in decoded['results']['comments'][1:]:\n",
      "        nyt.save(comment)"
     ],
     "language": "python",
     "metadata": {},
     "outputs": [],
     "prompt_number": 56
    },
    {
     "cell_type": "code",
     "collapsed": false,
     "input": [
      "nyt.count()"
     ],
     "language": "python",
     "metadata": {},
     "outputs": [
      {
       "metadata": {},
       "output_type": "pyout",
       "prompt_number": 57,
       "text": [
        "252"
       ]
      }
     ],
     "prompt_number": 57
    },
    {
     "cell_type": "code",
     "collapsed": false,
     "input": [
      "cursor = nyt.find({\"replyCount\": {\"$gt\":0}});\n",
      "cursor.next()"
     ],
     "language": "python",
     "metadata": {},
     "outputs": [
      {
       "metadata": {},
       "output_type": "pyout",
       "prompt_number": 60,
       "text": [
        "{u'_id': ObjectId('55ce48da3a8ffe5ef33e98da'),\n",
        " u'approveDate': u'1439495899',\n",
        " u'commentBody': u\"This divisive editorial and the expected comments are not productive.  I've seen multiple 'study' results and it all depends on what and how statistics are normalized for the 'same work' 'same education' and 'same hours.'  Women make about 97% of what men make when one truly normalizes the data.  I know a few female MDs and all but one work 2-3 days a week so they can spend time with their kids.  What is wrong with that?  Nothing.  Is it unfair - no, they choose it.  <br/><br/>Is it unfair that women have kids and not men.  No, it's called biology and I'd like the NYTimes to NOT consider mandating that men can have women as I really don't want to support more healthcare expenses (don't know what it would take to put a uterus in a man, but sounds dumb).  <br/><br/>Bottom line: Life isn't fair.  If you are being discriminated against and have good evidence, we've plenty of laws on the books to go after your employer.  If your evidence isn't too good or you don't care to sue your employer, you can change jobs (many of us do every day).  <br/><br/>Also, as most of us know, there are plenty of white males that make less than other white males in the same departments with the same experience - your education and resume/experience gets you the initial job, but it will never guarantee what happens after that - that is up to you.  And while the working environment/expectations can shape that, pay is up to performance, attitude, and appearance/timeliness.  Unless you are a public service union/union. \",\n",
        " u'commentID': 15779978,\n",
        " u'commentSequence': 15779978,\n",
        " u'commentTitle': u'<br/>',\n",
        " u'commentType': u'comment',\n",
        " u'createDate': u'1439493496',\n",
        " u'depth': 1,\n",
        " u'editorsSelection': False,\n",
        " u'parentID': None,\n",
        " u'parentUserDisplayName': None,\n",
        " u'permID': u'15779978',\n",
        " u'picURL': u'http://graphics8.nytimes.com/images/apps/timespeople/none.png',\n",
        " u'recommendations': 4,\n",
        " u'recommendedFlag': None,\n",
        " u'replies': [{u'approveDate': u'1439498930',\n",
        "   u'commentBody': u'Mary - I challenge your assertion that<br/>\"If you are being discriminated against and have good evidence, we\\'ve plenty of laws on the books to go after your employer. If your evidence isn\\'t too good or you don\\'t care to sue your employer, you can change jobs (many of us do every day).\"<br/><br/>Job discrimination cases require hiring a lawyer - who is not going to wait to get paid until your case is decided. If you are already a low-paid worker trying to prove that you have been discriminated against, that legal bill is a huge burden.<br/><br/>Also, American laws are based in the ability of owners of private property to use the property as they see fit, barring any harm to others. Harm to others has to be proved in order to curb the owners\\' ability. And so it goes with labor law - deference is given to the owners of property (employers) and it has to be proved that they caused harm AFTER the fact.  <br/><br/>Employees on the receiving end of wage discrimination must suffer before they can sue with what little money they have - and while they pursue legal remedy, they will likely lose that job.',\n",
        "   u'commentID': 15780721,\n",
        "   u'commentSequence': 15780721,\n",
        "   u'commentTitle': u'<br/>',\n",
        "   u'commentType': u'userReply',\n",
        "   u'createDate': u'1439498159',\n",
        "   u'depth': 2,\n",
        "   u'editorsSelection': False,\n",
        "   u'parentID': 15779978,\n",
        "   u'parentUserDisplayName': u'Mary',\n",
        "   u'permID': u'15779978:15780721',\n",
        "   u'picURL': u'http://graphics8.nytimes.com/images/apps/timespeople/none.png',\n",
        "   u'recommendations': 12,\n",
        "   u'recommendedFlag': None,\n",
        "   u'replies': [],\n",
        "   u'replyCount': 0,\n",
        "   u'reportAbuseFlag': None,\n",
        "   u'sharing': 1,\n",
        "   u'status': u'approved',\n",
        "   u'timespeople': 1,\n",
        "   u'trusted': 0,\n",
        "   u'updateDate': u'1439498930',\n",
        "   u'userDisplayName': u'Ella',\n",
        "   u'userID': 65446845,\n",
        "   u'userLocation': u'Washington State',\n",
        "   u'userTitle': u'NULL',\n",
        "   u'userURL': u'NULL'}],\n",
        " u'replyCount': 1,\n",
        " u'reportAbuseFlag': None,\n",
        " u'sharing': 0,\n",
        " u'status': u'approved',\n",
        " u'timespeople': 1,\n",
        " u'trusted': 0,\n",
        " u'updateDate': u'1439495899',\n",
        " u'userDisplayName': u'Mary',\n",
        " u'userID': 58303694,\n",
        " u'userLocation': u'Atlanta, GA',\n",
        " u'userTitle': u'NULL',\n",
        " u'userURL': u'NULL'}"
       ]
      }
     ],
     "prompt_number": 60
    },
    {
     "cell_type": "code",
     "collapsed": false,
     "input": [],
     "language": "python",
     "metadata": {},
     "outputs": []
    }
   ],
   "metadata": {}
  }
 ]
}