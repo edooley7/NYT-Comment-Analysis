{
 "metadata": {
  "name": ""
 },
 "nbformat": 3,
 "nbformat_minor": 0,
 "worksheets": [
  {
   "cells": [
    {
     "cell_type": "code",
     "collapsed": false,
     "input": [
      "import urllib2\n",
      "import json\n",
      "from pymongo import MongoClient\n",
      "from __future__ import division"
     ],
     "language": "python",
     "metadata": {},
     "outputs": [],
     "prompt_number": 305
    },
    {
     "cell_type": "code",
     "collapsed": false,
     "input": [
      "request_string = 'http://api.nytimes.com/svc/community/v3/user-content/url.json?api-key=ea7c9ce8aace11f9c6635518caf80167:17:70239558&url=http://www.nytimes.com/2015/08/13/opinion/lets-expose-the-gender-pay-gap.html'\n",
      "response = urllib2.urlopen(request_string)\n",
      "content = response.read()\n",
      "decoded = json.loads(content)"
     ],
     "language": "python",
     "metadata": {},
     "outputs": [],
     "prompt_number": 306
    },
    {
     "cell_type": "code",
     "collapsed": false,
     "input": [
      "print \"General keys:\", decoded.keys()\n",
      "print \"\\n\",\"---------------------------\",\"\\n\"\n",
      "print \"Results keys:\", decoded['results'].keys()\n",
      "print \"\\n\",\"---------------------------\",\"\\n\"\n",
      "print \"Comments keys:\", decoded['results']['comments'][0].keys()\n",
      "print \"\\n\",\"---------------------------\",\"\\n\"\n",
      "\n",
      "num_parent_comments = decoded['results']['totalParentCommentsFound']\n",
      "print \"Number of parent comments:\", num_parent_comments\n",
      "\n",
      "total_comments = decoded['results']['totalCommentsFound']\n",
      "print \"Number of reply comments:\", decoded['results']['totalReplyCommentsFound']\n",
      "print \"Total comments:\",  total_comments\n",
      "print \"Number of NYT picks:\", decoded['results']['totalEditorsSelectionFound']\n",
      "print \"Number of readers picks:\", decoded['results']['totalRecommendationsFound']\n",
      "print \"\\n\",\"---------------------------\",\"\\n\"\n",
      "\n",
      "print decoded['results']['comments'][7]\n",
      "print decoded['results']['comments'][7]['replies'][0]"
     ],
     "language": "python",
     "metadata": {},
     "outputs": [
      {
       "output_type": "stream",
       "stream": "stdout",
       "text": [
        "General keys: [u'debug', u'status', u'results', u'copyright']\n",
        "\n",
        "--------------------------- \n",
        "\n",
        "Results keys: [u'totalParentCommentsFound', u'sort', u'totalCommentsFound', u'depthLimit', u'callerID', u'totalRecommendationsReturned', u'comments', u'totalReplyCommentsReturned', u'filter', u'totalParentCommentsReturned', u'totalReplyCommentsFound', u'totalCommentsReturned', u'totalEditorsSelectionReturned', u'replyLimit', u'totalReporterReplyCommentsFound', u'api_timestamp', u'totalReporterReplyCommentsReturned', u'totalRecommendationsFound', u'totalEditorsSelectionFound', u'page']\n",
        "\n",
        "--------------------------- \n",
        "\n",
        "Comments keys: [u'recommendedFlag', u'parentID', u'replies', u'commentID', u'trusted', u'userDisplayName', u'createDate', u'userID', u'replyCount', u'commentTitle', u'status', u'sharing', u'approveDate', u'userTitle', u'recommendations', u'permID', u'picURL', u'editorsSelection', u'parentUserDisplayName', u'timespeople', u'userURL', u'userLocation', u'depth', u'commentType', u'updateDate', u'commentSequence', u'reportAbuseFlag', u'commentBody']\n",
        "\n",
        "--------------------------- \n",
        "\n",
        "Number of parent comments: 253\n",
        "Number of reply comments: 358\n",
        "Total comments: 611\n",
        "Number of NYT picks: 24\n",
        "Number of readers picks: 322\n",
        "\n",
        "--------------------------- \n",
        "\n",
        "{u'recommendedFlag': None, u'parentID': None, u'replies': [{u'recommendedFlag': None, u'parentID': 15779978, u'replies': [], u'commentID': 15780721, u'trusted': 0, u'userDisplayName': u'Ella', u'createDate': u'1439498159', u'userID': 65446845, u'replyCount': 0, u'commentTitle': u'<br/>', u'status': u'approved', u'sharing': 1, u'approveDate': u'1439498930', u'userTitle': u'NULL', u'recommendations': 14, u'permID': u'15779978:15780721', u'picURL': u'http://graphics8.nytimes.com/images/apps/timespeople/none.png', u'editorsSelection': False, u'parentUserDisplayName': u'Mary', u'timespeople': 1, u'userURL': u'NULL', u'userLocation': u'Washington State', u'depth': 2, u'commentType': u'userReply', u'updateDate': u'1439498930', u'commentSequence': 15780721, u'reportAbuseFlag': None, u'commentBody': u'Mary - I challenge your assertion that<br/>\"If you are being discriminated against and have good evidence, we\\'ve plenty of laws on the books to go after your employer. If your evidence isn\\'t too good or you don\\'t care to sue your employer, you can change jobs (many of us do every day).\"<br/><br/>Job discrimination cases require hiring a lawyer - who is not going to wait to get paid until your case is decided. If you are already a low-paid worker trying to prove that you have been discriminated against, that legal bill is a huge burden.<br/><br/>Also, American laws are based in the ability of owners of private property to use the property as they see fit, barring any harm to others. Harm to others has to be proved in order to curb the owners\\' ability. And so it goes with labor law - deference is given to the owners of property (employers) and it has to be proved that they caused harm AFTER the fact.  <br/><br/>Employees on the receiving end of wage discrimination must suffer before they can sue with what little money they have - and while they pursue legal remedy, they will likely lose that job.'}], u'commentID': 15779978, u'trusted': 0, u'userDisplayName': u'Mary', u'createDate': u'1439493496', u'userID': 58303694, u'replyCount': 1, u'commentTitle': u'<br/>', u'status': u'approved', u'sharing': 0, u'approveDate': u'1439495899', u'userTitle': u'NULL', u'recommendations': 4, u'permID': u'15779978', u'picURL': u'http://graphics8.nytimes.com/images/apps/timespeople/none.png', u'editorsSelection': False, u'parentUserDisplayName': None, u'timespeople': 1, u'userURL': u'NULL', u'userLocation': u'Atlanta, GA', u'depth': 1, u'commentType': u'comment', u'updateDate': u'1439495899', u'commentSequence': 15779978, u'reportAbuseFlag': None, u'commentBody': u\"This divisive editorial and the expected comments are not productive.  I've seen multiple 'study' results and it all depends on what and how statistics are normalized for the 'same work' 'same education' and 'same hours.'  Women make about 97% of what men make when one truly normalizes the data.  I know a few female MDs and all but one work 2-3 days a week so they can spend time with their kids.  What is wrong with that?  Nothing.  Is it unfair - no, they choose it.  <br/><br/>Is it unfair that women have kids and not men.  No, it's called biology and I'd like the NYTimes to NOT consider mandating that men can have women as I really don't want to support more healthcare expenses (don't know what it would take to put a uterus in a man, but sounds dumb).  <br/><br/>Bottom line: Life isn't fair.  If you are being discriminated against and have good evidence, we've plenty of laws on the books to go after your employer.  If your evidence isn't too good or you don't care to sue your employer, you can change jobs (many of us do every day).  <br/><br/>Also, as most of us know, there are plenty of white males that make less than other white males in the same departments with the same experience - your education and resume/experience gets you the initial job, but it will never guarantee what happens after that - that is up to you.  And while the working environment/expectations can shape that, pay is up to performance, attitude, and appearance/timeliness.  Unless you are a public service union/union. \"}\n",
        "{u'recommendedFlag': None, u'parentID': 15779978, u'replies': [], u'commentID': 15780721, u'trusted': 0, u'userDisplayName': u'Ella', u'createDate': u'1439498159', u'userID': 65446845, u'replyCount': 0, u'commentTitle': u'<br/>', u'status': u'approved', u'sharing': 1, u'approveDate': u'1439498930', u'userTitle': u'NULL', u'recommendations': 14, u'permID': u'15779978:15780721', u'picURL': u'http://graphics8.nytimes.com/images/apps/timespeople/none.png', u'editorsSelection': False, u'parentUserDisplayName': u'Mary', u'timespeople': 1, u'userURL': u'NULL', u'userLocation': u'Washington State', u'depth': 2, u'commentType': u'userReply', u'updateDate': u'1439498930', u'commentSequence': 15780721, u'reportAbuseFlag': None, u'commentBody': u'Mary - I challenge your assertion that<br/>\"If you are being discriminated against and have good evidence, we\\'ve plenty of laws on the books to go after your employer. If your evidence isn\\'t too good or you don\\'t care to sue your employer, you can change jobs (many of us do every day).\"<br/><br/>Job discrimination cases require hiring a lawyer - who is not going to wait to get paid until your case is decided. If you are already a low-paid worker trying to prove that you have been discriminated against, that legal bill is a huge burden.<br/><br/>Also, American laws are based in the ability of owners of private property to use the property as they see fit, barring any harm to others. Harm to others has to be proved in order to curb the owners\\' ability. And so it goes with labor law - deference is given to the owners of property (employers) and it has to be proved that they caused harm AFTER the fact.  <br/><br/>Employees on the receiving end of wage discrimination must suffer before they can sue with what little money they have - and while they pursue legal remedy, they will likely lose that job.'}\n"
       ]
      }
     ],
     "prompt_number": 307
    },
    {
     "cell_type": "code",
     "collapsed": false,
     "input": [
      "request_strings = []\n",
      "def generate_request_strings():\n",
      "    for i in xrange(0,num_parent_comments,25):\n",
      "        request_strings.append(\"http://api.nytimes.com/svc/community/v3/user-content/url.json?api-key=ea7c9ce8aace11f9c6635518caf80167:17:70239558&url=http://www.nytimes.com/2015/08/13/opinion/lets-expose-the-gender-pay-gap.html&offset=\" + str(i))\n",
      "generate_request_strings()                           "
     ],
     "language": "python",
     "metadata": {},
     "outputs": [],
     "prompt_number": 298
    },
    {
     "cell_type": "code",
     "collapsed": false,
     "input": [
      "decoded_list = []\n",
      "def get_response_pages():\n",
      "    for page in request_strings:\n",
      "        response = urllib2.urlopen(page)\n",
      "        content = response.read()\n",
      "        decoded = json.loads(content)\n",
      "        decoded_list.append(decoded)\n",
      "get_response_pages()"
     ],
     "language": "python",
     "metadata": {},
     "outputs": [],
     "prompt_number": 299
    },
    {
     "cell_type": "code",
     "collapsed": false,
     "input": [
      "def recursive_dfs(graph, start, path=[]):\n",
      "  '''recursive depth first search from start'''\n",
      "  path=path+[start]\n",
      "  print start\n",
      "  for node in graph[start]:\n",
      "    if not node in path:\n",
      "      path=recursive_dfs(graph, node, path)\n",
      "  return path\n",
      "\n",
      "def save_replies(comment, reply, replies=[]):\n",
      "    replies = replies+[reply]\n",
      "    for child_reply in comment['replies']:\n",
      "        if not reply in replies:\n",
      "            replies = save_replies(comment, reply, replies)\n",
      "    return replies\n",
      "\n",
      "\"\"\"\n",
      "    if len(reply['replies']) == 0:\n",
      "        nyt.save(reply)\n",
      "    else:\n",
      "        for reply in reply['replies']:\n",
      "            replies.append(reply)\n",
      "            \n",
      "            print \"Called save_replies(reply)\"\n",
      "            nyt.save(reply)\n",
      "            return save_replies(reply)\n",
      "\"\"\""
     ],
     "language": "python",
     "metadata": {},
     "outputs": [
      {
       "metadata": {},
       "output_type": "pyout",
       "prompt_number": 375,
       "text": [
        "'\\n    if len(reply[\\'replies\\']) == 0:\\n        nyt.save(reply)\\n    else:\\n        for reply in reply[\\'replies\\']:\\n            replies.append(reply)\\n            \\n            print \"Called save_replies(reply)\"\\n            nyt.save(reply)\\n            return save_replies(reply)\\n'"
       ]
      }
     ],
     "prompt_number": 375
    },
    {
     "cell_type": "code",
     "collapsed": false,
     "input": [
      "client = MongoClient()\n",
      "nyt = client.nyt_t.nyt"
     ],
     "language": "python",
     "metadata": {},
     "outputs": [],
     "prompt_number": 376
    },
    {
     "cell_type": "code",
     "collapsed": false,
     "input": [
      "client.drop_database('nyt_t')\n",
      "for decoded in decoded_list:\n",
      "    for i, comment in enumerate(decoded['results']['comments']):\n",
      "        print \"Saved parent comment\", i\n",
      "        nyt.save(comment)\n",
      "        save_replies(comment, comment[i])"
     ],
     "language": "python",
     "metadata": {},
     "outputs": [
      {
       "ename": "TypeError",
       "evalue": "save_replies() takes at least 2 arguments (1 given)",
       "output_type": "pyerr",
       "traceback": [
        "\u001b[0;31m---------------------------------------------------------------------------\u001b[0m\n\u001b[0;31mTypeError\u001b[0m                                 Traceback (most recent call last)",
        "\u001b[0;32m<ipython-input-377-4d4aca7aecd9>\u001b[0m in \u001b[0;36m<module>\u001b[0;34m()\u001b[0m\n\u001b[1;32m      4\u001b[0m         \u001b[0;32mprint\u001b[0m \u001b[0;34m\"Saved parent comment\"\u001b[0m\u001b[0;34m,\u001b[0m \u001b[0mi\u001b[0m\u001b[0;34m\u001b[0m\u001b[0m\n\u001b[1;32m      5\u001b[0m         \u001b[0mnyt\u001b[0m\u001b[0;34m.\u001b[0m\u001b[0msave\u001b[0m\u001b[0;34m(\u001b[0m\u001b[0mcomment\u001b[0m\u001b[0;34m)\u001b[0m\u001b[0;34m\u001b[0m\u001b[0m\n\u001b[0;32m----> 6\u001b[0;31m         \u001b[0msave_replies\u001b[0m\u001b[0;34m(\u001b[0m\u001b[0mcomment\u001b[0m\u001b[0;34m)\u001b[0m\u001b[0;34m\u001b[0m\u001b[0m\n\u001b[0m",
        "\u001b[0;31mTypeError\u001b[0m: save_replies() takes at least 2 arguments (1 given)"
       ]
      },
      {
       "output_type": "stream",
       "stream": "stdout",
       "text": [
        "Saved parent comment 0\n"
       ]
      }
     ],
     "prompt_number": 377
    },
    {
     "cell_type": "code",
     "collapsed": false,
     "input": [
      "count = nyt.count()\n",
      "print \"Comments added:\", count\n",
      "print \"Percent added to db: %0.2f\" % float((count/total_comments)*100)"
     ],
     "language": "python",
     "metadata": {},
     "outputs": [
      {
       "output_type": "stream",
       "stream": "stdout",
       "text": [
        "Comments added: 366\n",
        "Percent added to db: 59.90\n"
       ]
      }
     ],
     "prompt_number": 360
    },
    {
     "cell_type": "code",
     "collapsed": false,
     "input": [
      "['A'] + ['B']"
     ],
     "language": "python",
     "metadata": {},
     "outputs": [
      {
       "metadata": {},
       "output_type": "pyout",
       "prompt_number": 369,
       "text": [
        "['A', 'B']"
       ]
      }
     ],
     "prompt_number": 369
    },
    {
     "cell_type": "code",
     "collapsed": false,
     "input": [],
     "language": "python",
     "metadata": {},
     "outputs": [],
     "prompt_number": 372
    },
    {
     "cell_type": "code",
     "collapsed": false,
     "input": [
      "graph = {'A':['B','C'],'B':['D','E'],'C':['D','E'],'D':['E'],'E':['A']}\n",
      "print recursive_dfs(graph, 'A')"
     ],
     "language": "python",
     "metadata": {},
     "outputs": [
      {
       "output_type": "stream",
       "stream": "stdout",
       "text": [
        "A\n",
        "B\n",
        "D\n",
        "E\n",
        "C\n",
        "['A', 'B', 'D', 'E', 'C']\n"
       ]
      }
     ],
     "prompt_number": 374
    },
    {
     "cell_type": "code",
     "collapsed": false,
     "input": [],
     "language": "python",
     "metadata": {},
     "outputs": [],
     "prompt_number": 303
    },
    {
     "cell_type": "code",
     "collapsed": false,
     "input": [],
     "language": "python",
     "metadata": {},
     "outputs": [],
     "prompt_number": 303
    },
    {
     "cell_type": "code",
     "collapsed": false,
     "input": [],
     "language": "python",
     "metadata": {},
     "outputs": [],
     "prompt_number": 303
    }
   ],
   "metadata": {}
  }
 ]
}